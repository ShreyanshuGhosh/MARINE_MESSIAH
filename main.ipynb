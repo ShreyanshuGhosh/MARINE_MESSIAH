{
 "cells": [
  {
   "cell_type": "code",
   "execution_count": 1,
   "source": [
    "import cv2   # library imported"
   ],
   "outputs": [
    {
     "output_type": "error",
     "ename": "ModuleNotFoundError",
     "evalue": "No module named 'cv2'",
     "traceback": [
      "\u001b[1;31m---------------------------------------------------------------------------\u001b[0m",
      "\u001b[1;31mModuleNotFoundError\u001b[0m                       Traceback (most recent call last)",
      "\u001b[1;32m~\\AppData\\Local\\Temp/ipykernel_2232/4106349729.py\u001b[0m in \u001b[0;36m<module>\u001b[1;34m\u001b[0m\n\u001b[1;32m----> 1\u001b[1;33m \u001b[1;32mimport\u001b[0m \u001b[0mcv2\u001b[0m   \u001b[1;31m# library imported\u001b[0m\u001b[1;33m\u001b[0m\u001b[1;33m\u001b[0m\u001b[0m\n\u001b[0m",
      "\u001b[1;31mModuleNotFoundError\u001b[0m: No module named 'cv2'"
     ]
    }
   ],
   "metadata": {}
  },
  {
   "cell_type": "markdown",
   "source": [
    "plastic recognition in videos"
   ],
   "metadata": {}
  },
  {
   "cell_type": "code",
   "execution_count": 18,
   "source": [
    "# Load the cascade\r\n",
    "cascade = cv2.CascadeClassifier('model.xml')\r\n",
    "\r\n",
    "# To use a video  \r\n",
    "cap = cv2.VideoCapture('plastic.mp4')\r\n",
    "\r\n",
    "while True:\r\n",
    "    # Read each frame of the video\r\n",
    "    success, img = cap.read()\r\n",
    "    \r\n",
    "    gray = cv2.cvtColor(img, cv2.COLOR_BGR2GRAY) # Convert to grayscale\r\n",
    "    \r\n",
    "    plastic = cascade.detectMultiScale(gray, 1.2,3)  # Detect the plastic\r\n",
    "    \r\n",
    "    for (x, y, w, h) in plastic:\r\n",
    "        cv2.rectangle(img, (x, y), (x+w, y+h), (0, 0, 255), 2)  # draw a rectangle box around plastic \r\n",
    "    \r\n",
    "    cv2.imshow('output', img)\r\n",
    "   \r\n",
    "    k = cv2.waitKey(30) & 0xff  \r\n",
    "    if k==32:      # Stop if 'spacebar' is pressed\r\n",
    "        break\r\n",
    "\r\n",
    "cap.release()\r\n",
    "cv2.destroyAllWindows()"
   ],
   "outputs": [],
   "metadata": {}
  },
  {
   "cell_type": "markdown",
   "source": [
    "plastic recognition in images"
   ],
   "metadata": {}
  },
  {
   "cell_type": "code",
   "execution_count": 14,
   "source": [
    "# Load the cascade\r\n",
    "face_cascade = cv2.CascadeClassifier('model.xml')\r\n",
    "\r\n",
    "img = cv2.imread('bag.jpg')\r\n",
    "\r\n",
    "gray = cv2.cvtColor(img, cv2.COLOR_BGR2GRAY)\r\n",
    "\r\n",
    "faces = face_cascade.detectMultiScale(gray, 1.4, 4)\r\n",
    "\r\n",
    "# Draw the rectangle around each detected plastic\r\n",
    "for (x, y, w, h) in faces:\r\n",
    "    cv2.rectangle(img, (x, y), (x+w, y+h), (0, 0, 255), 2)\r\n",
    "\r\n",
    "\r\n",
    "cv2.imshow('out',img)\r\n",
    "cv2.waitKey(0)\r\n",
    "cv2.destroyAllWindows()\r\n",
    "    \r\n",
    "  "
   ],
   "outputs": [],
   "metadata": {}
  }
 ],
 "metadata": {
  "interpreter": {
   "hash": "33dc6d49505b4536b6a128d9d7c879e1fa44477ad44947bbbe73093067fe6393"
  },
  "kernelspec": {
   "name": "python3",
   "display_name": "Python 3.9.7 64-bit"
  },
  "language_info": {
   "codemirror_mode": {
    "name": "ipython",
    "version": 3
   },
   "file_extension": ".py",
   "mimetype": "text/x-python",
   "name": "python",
   "nbconvert_exporter": "python",
   "pygments_lexer": "ipython3",
   "version": "3.9.7"
  }
 },
 "nbformat": 4,
 "nbformat_minor": 2
}